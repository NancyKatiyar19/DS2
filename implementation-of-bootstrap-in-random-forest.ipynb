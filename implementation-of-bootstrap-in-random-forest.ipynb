{
 "cells": [
  {
   "cell_type": "code",
   "execution_count": 1,
   "id": "371510a9",
   "metadata": {
    "execution": {
     "iopub.execute_input": "2021-07-17T15:54:51.352122Z",
     "iopub.status.busy": "2021-07-17T15:54:51.349561Z",
     "iopub.status.idle": "2021-07-17T15:54:52.451382Z",
     "shell.execute_reply": "2021-07-17T15:54:52.450864Z",
     "shell.execute_reply.started": "2021-07-17T15:11:30.865446Z"
    },
    "id": "m6ag91ijrQOs",
    "papermill": {
     "duration": 1.126167,
     "end_time": "2021-07-17T15:54:52.451528",
     "exception": false,
     "start_time": "2021-07-17T15:54:51.325361",
     "status": "completed"
    },
    "tags": []
   },
   "outputs": [
    {
     "name": "stdout",
     "output_type": "stream",
     "text": [
      "x.shape  (506, 13)\n",
      "y.shape  (506,)\n"
     ]
    }
   ],
   "source": [
    "import numpy as np # importing numpy for numerical computation\n",
    "from sklearn.datasets import load_boston # here we are using sklearn's boston dataset\n",
    "from sklearn.metrics import mean_squared_error # importing mean_squared_error metric\n",
    "\n",
    "import random\n",
    "from sklearn.tree import DecisionTreeRegressor\n",
    "\n",
    "boston = load_boston()\n",
    "x=boston.data #independent variables\n",
    "y=boston.target #target variable\n",
    "\n",
    "print(\"x.shape \", x.shape)\n",
    "print(\"y.shape \", y.shape)"
   ]
  },
  {
   "cell_type": "code",
   "execution_count": 2,
   "id": "3e309335",
   "metadata": {
    "execution": {
     "iopub.execute_input": "2021-07-17T15:54:52.488897Z",
     "iopub.status.busy": "2021-07-17T15:54:52.488132Z",
     "iopub.status.idle": "2021-07-17T15:54:52.491846Z",
     "shell.execute_reply": "2021-07-17T15:54:52.491310Z",
     "shell.execute_reply.started": "2021-07-17T15:11:32.079695Z"
    },
    "id": "kQle3T_wuOa3",
    "outputId": "521c7bdd-5316-48d5-c534-b61d170d2c28",
    "papermill": {
     "duration": 0.025206,
     "end_time": "2021-07-17T15:54:52.491951",
     "exception": false,
     "start_time": "2021-07-17T15:54:52.466745",
     "status": "completed"
    },
    "tags": []
   },
   "outputs": [
    {
     "data": {
      "text/plain": [
       "array([[6.3200e-03, 1.8000e+01, 2.3100e+00, 0.0000e+00, 5.3800e-01,\n",
       "        6.5750e+00, 6.5200e+01, 4.0900e+00, 1.0000e+00, 2.9600e+02,\n",
       "        1.5300e+01, 3.9690e+02, 4.9800e+00],\n",
       "       [2.7310e-02, 0.0000e+00, 7.0700e+00, 0.0000e+00, 4.6900e-01,\n",
       "        6.4210e+00, 7.8900e+01, 4.9671e+00, 2.0000e+00, 2.4200e+02,\n",
       "        1.7800e+01, 3.9690e+02, 9.1400e+00],\n",
       "       [2.7290e-02, 0.0000e+00, 7.0700e+00, 0.0000e+00, 4.6900e-01,\n",
       "        7.1850e+00, 6.1100e+01, 4.9671e+00, 2.0000e+00, 2.4200e+02,\n",
       "        1.7800e+01, 3.9283e+02, 4.0300e+00],\n",
       "       [3.2370e-02, 0.0000e+00, 2.1800e+00, 0.0000e+00, 4.5800e-01,\n",
       "        6.9980e+00, 4.5800e+01, 6.0622e+00, 3.0000e+00, 2.2200e+02,\n",
       "        1.8700e+01, 3.9463e+02, 2.9400e+00],\n",
       "       [6.9050e-02, 0.0000e+00, 2.1800e+00, 0.0000e+00, 4.5800e-01,\n",
       "        7.1470e+00, 5.4200e+01, 6.0622e+00, 3.0000e+00, 2.2200e+02,\n",
       "        1.8700e+01, 3.9690e+02, 5.3300e+00]])"
      ]
     },
     "execution_count": 2,
     "metadata": {},
     "output_type": "execute_result"
    }
   ],
   "source": [
    "x[:5]"
   ]
  },
  {
   "cell_type": "markdown",
   "id": "6f0cea84",
   "metadata": {
    "id": "f_oWoN97BhDY",
    "papermill": {
     "duration": 0.014934,
     "end_time": "2021-07-17T15:54:52.583292",
     "exception": false,
     "start_time": "2021-07-17T15:54:52.568358",
     "status": "completed"
    },
    "tags": []
   },
   "source": [
    "### Generating samples"
   ]
  },
  {
   "cell_type": "code",
   "execution_count": 3,
   "id": "8f5cb26d",
   "metadata": {
    "execution": {
     "iopub.execute_input": "2021-07-17T15:54:52.621391Z",
     "iopub.status.busy": "2021-07-17T15:54:52.620686Z",
     "iopub.status.idle": "2021-07-17T15:54:52.623533Z",
     "shell.execute_reply": "2021-07-17T15:54:52.623090Z",
     "shell.execute_reply.started": "2021-07-17T15:11:32.095354Z"
    },
    "papermill": {
     "duration": 0.025187,
     "end_time": "2021-07-17T15:54:52.623653",
     "exception": false,
     "start_time": "2021-07-17T15:54:52.598466",
     "status": "completed"
    },
    "tags": []
   },
   "outputs": [],
   "source": [
    "def generating_samples(input_data, target_data): \n",
    "  \n",
    "  # random.choice to generate random indices without replacement\n",
    "  # selecting 303 random row indices from the input_data, without replacement\n",
    "  rows_selected = np.random.choice(len(input_data), 303, replace=False)\n",
    "  \n",
    "  # now we will replicate 203 points from above selected rows\n",
    "  # Replacing Rows => Extracting 206 reandom row indices from the abvoe rows_selected\n",
    "  rows_203_extracted_from_rows_selected = np.random.choice(rows_selected, 203, replace=False)\n",
    "  \n",
    "  # Now get 3 to 13 random column indices from input_data\n",
    "  number_of_columns_to_select = random.randint(3, 13)\n",
    "  columns_selected = np.array(random.sample(range(0, 13), number_of_columns_to_select ))\n",
    "  \n",
    "  sample_data = input_data[rows_selected[:, None], columns_selected]\n",
    "  \n",
    "  target_of_sample_data = target_data[rows_selected]\n",
    "  \n",
    "  # Now Replication of Data for 203 data points out of 303 selected points\n",
    "  \n",
    "  replicated_203_sample_data_points = input_data[rows_203_extracted_from_rows_selected[:, None], columns_selected ]\n",
    "  \n",
    "  target_203_replicated_sample_data = target_data[rows_203_extracted_from_rows_selected]\n",
    "  \n",
    "  # Concatenating data\n",
    "  \n",
    "  final_sample_data = np.vstack((sample_data, replicated_203_sample_data_points ))\n",
    "  \n",
    "  final_target_data = np.vstack((target_of_sample_data.reshape(-1, 1), target_203_replicated_sample_data.reshape(-1, 1) ))\n",
    "  \n",
    "  return final_sample_data, final_target_data, rows_selected, columns_selected\n",
    "  "
   ]
  },
  {
   "cell_type": "markdown",
   "id": "e2c3d9e4",
   "metadata": {
    "id": "MivEQFlm7iOg",
    "papermill": {
     "duration": 0.014791,
     "end_time": "2021-07-17T15:54:52.653781",
     "exception": false,
     "start_time": "2021-07-17T15:54:52.638990",
     "status": "completed"
    },
    "tags": []
   },
   "source": [
    "<font color='cyan'> <b> Grader function - 1 </b> </fongt>"
   ]
  },
  {
   "cell_type": "code",
   "execution_count": 4,
   "id": "d1bd5e4a",
   "metadata": {
    "execution": {
     "iopub.execute_input": "2021-07-17T15:54:52.693193Z",
     "iopub.status.busy": "2021-07-17T15:54:52.692240Z",
     "iopub.status.idle": "2021-07-17T15:54:52.771720Z",
     "shell.execute_reply": "2021-07-17T15:54:52.771290Z",
     "shell.execute_reply.started": "2021-07-17T15:11:32.108373Z"
    },
    "id": "AVvuhNzm7uld",
    "papermill": {
     "duration": 0.102612,
     "end_time": "2021-07-17T15:54:52.771834",
     "exception": false,
     "start_time": "2021-07-17T15:54:52.669222",
     "status": "completed"
    },
    "tags": []
   },
   "outputs": [
    {
     "name": "stdout",
     "output_type": "stream",
     "text": [
      "(506, 9)\n",
      "(506, 1)\n",
      "(303,)\n",
      "(9,)\n"
     ]
    },
    {
     "data": {
      "text/plain": [
       "True"
      ]
     },
     "execution_count": 4,
     "metadata": {},
     "output_type": "execute_result"
    }
   ],
   "source": [
    "def grader_samples(a,b,c,d):\n",
    "    length = (len(a)==506  and len(b)==506)\n",
    "    sampled = (len(a)-len(set([str(i) for i in a]))==203)\n",
    "    rows_length = (len(c)==303)\n",
    "    column_length= (len(d)>=3)\n",
    "    assert(length and sampled and rows_length and column_length)\n",
    "    return True\n",
    "  \n",
    "a,b,c,d = generating_samples(x, y)\n",
    "print(a.shape)\n",
    "print(b.shape)\n",
    "print(c.shape)\n",
    "print(d.shape)\n",
    "grader_samples(a,b,c,d)"
   ]
  },
  {
   "cell_type": "code",
   "execution_count": 5,
   "id": "acc806cc",
   "metadata": {
    "execution": {
     "iopub.execute_input": "2021-07-17T15:54:52.842431Z",
     "iopub.status.busy": "2021-07-17T15:54:52.841633Z",
     "iopub.status.idle": "2021-07-17T15:54:52.849067Z",
     "shell.execute_reply": "2021-07-17T15:54:52.849422Z",
     "shell.execute_reply.started": "2021-07-17T15:11:32.232918Z"
    },
    "id": "XXlKWjCcBvTk",
    "papermill": {
     "duration": 0.02892,
     "end_time": "2021-07-17T15:54:52.849556",
     "exception": false,
     "start_time": "2021-07-17T15:54:52.820636",
     "status": "completed"
    },
    "tags": []
   },
   "outputs": [],
   "source": [
    "# Use generating_samples function to create 30 samples \n",
    "# store these created samples in a list\n",
    "list_input_data =[]\n",
    "list_output_data =[]\n",
    "list_selected_row= []\n",
    "list_selected_columns=[]\n",
    "\n",
    "for i in range (0, 30):\n",
    "  a, b, c, d = generating_samples(x, y)\n",
    "  list_input_data.append(a)\n",
    "  list_output_data.append(b)\n",
    "  list_selected_row.append(c)\n",
    "  list_selected_columns.append(d)"
   ]
  },
  {
   "cell_type": "markdown",
   "id": "1c38ba61",
   "metadata": {
    "id": "MXUz9VFiMQkh",
    "papermill": {
     "duration": 0.016752,
     "end_time": "2021-07-17T15:54:52.882522",
     "exception": false,
     "start_time": "2021-07-17T15:54:52.865770",
     "status": "completed"
    },
    "tags": []
   },
   "source": [
    "<font color='cyan'> <b>Grader function - 2 </b></font>"
   ]
  },
  {
   "cell_type": "code",
   "execution_count": 6,
   "id": "d613d3b7",
   "metadata": {
    "execution": {
     "iopub.execute_input": "2021-07-17T15:54:52.920230Z",
     "iopub.status.busy": "2021-07-17T15:54:52.919531Z",
     "iopub.status.idle": "2021-07-17T15:54:52.923012Z",
     "shell.execute_reply": "2021-07-17T15:54:52.922577Z",
     "shell.execute_reply.started": "2021-07-17T15:11:32.245796Z"
    },
    "id": "hCvIq8NuMWOC",
    "papermill": {
     "duration": 0.024303,
     "end_time": "2021-07-17T15:54:52.923111",
     "exception": false,
     "start_time": "2021-07-17T15:54:52.898808",
     "status": "completed"
    },
    "tags": []
   },
   "outputs": [
    {
     "data": {
      "text/plain": [
       "True"
      ]
     },
     "execution_count": 6,
     "metadata": {},
     "output_type": "execute_result"
    }
   ],
   "source": [
    "def grader_30(a):\n",
    "    assert(len(a)==30 and len(a[0])==506)\n",
    "    return True\n",
    "grader_30(list_input_data)"
   ]
  },
  {
   "cell_type": "code",
   "execution_count": 7,
   "id": "ae32675a",
   "metadata": {
    "execution": {
     "iopub.execute_input": "2021-07-17T15:54:52.992355Z",
     "iopub.status.busy": "2021-07-17T15:54:52.991877Z",
     "iopub.status.idle": "2021-07-17T15:54:53.058291Z",
     "shell.execute_reply": "2021-07-17T15:54:53.057833Z",
     "shell.execute_reply.started": "2021-07-17T15:11:32.256432Z"
    },
    "id": "YWQp6tRwMthq",
    "papermill": {
     "duration": 0.087367,
     "end_time": "2021-07-17T15:54:53.058402",
     "exception": false,
     "start_time": "2021-07-17T15:54:52.971035",
     "status": "completed"
    },
    "tags": []
   },
   "outputs": [],
   "source": [
    "list_of_all_models_decision_tree = []\n",
    "for i in range(0, 30):\n",
    "  model_i = DecisionTreeRegressor(max_depth=None)\n",
    "  model_i.fit(list_input_data[i], list_output_data[i])\n",
    "  list_of_all_models_decision_tree.append(model_i)"
   ]
  },
  {
   "cell_type": "markdown",
   "id": "a97b6da1",
   "metadata": {
    "id": "6e-UamlHRjPy",
    "papermill": {
     "duration": 0.017134,
     "end_time": "2021-07-17T15:54:53.126068",
     "exception": false,
     "start_time": "2021-07-17T15:54:53.108934",
     "status": "completed"
    },
    "tags": []
   },
   "source": [
    "After getting predicted_y for each data point, we can use sklearns mean_squared_error to calculate the MSE between predicted_y and actual_y.\n",
    "\n",
    "# Calculating MSE"
   ]
  },
  {
   "cell_type": "code",
   "execution_count": 8,
   "id": "c85bd537",
   "metadata": {
    "execution": {
     "iopub.execute_input": "2021-07-17T15:54:53.166194Z",
     "iopub.status.busy": "2021-07-17T15:54:53.165598Z",
     "iopub.status.idle": "2021-07-17T15:54:53.182185Z",
     "shell.execute_reply": "2021-07-17T15:54:53.181598Z",
     "shell.execute_reply.started": "2021-07-17T15:11:32.347527Z"
    },
    "id": "qWhcvMRWRA9b",
    "papermill": {
     "duration": 0.039296,
     "end_time": "2021-07-17T15:54:53.182302",
     "exception": false,
     "start_time": "2021-07-17T15:54:53.143006",
     "status": "completed"
    },
    "tags": []
   },
   "outputs": [
    {
     "name": "stdout",
     "output_type": "stream",
     "text": [
      "MSE :  0.020601008560538814\n"
     ]
    }
   ],
   "source": [
    "from sklearn.metrics import mean_squared_error\n",
    "from statistics import median\n",
    "\n",
    "array_of_Y = []\n",
    "\n",
    "for i in range(0, 30):\n",
    "  data_point_i = x[:, list_selected_columns[i]]\n",
    "  target_y_i = list_of_all_models_decision_tree[i].predict(data_point_i)\n",
    "  array_of_Y.append(target_y_i)\n",
    "  \n",
    "  \n",
    "predicted_array_of_target_y = np.array(array_of_Y)\n",
    "predicted_array_of_target_y = predicted_array_of_target_y.transpose()\n",
    "\n",
    "# print(predicted_array_of_target_y.shape)\n",
    "\n",
    "# Now to calculate MSE, first calculate the Median of Predicted Y\n",
    "# passing axis=1 will make sure the medians are computed along axis=1\n",
    "median_predicted_y = np.median(predicted_array_of_target_y, axis=1)\n",
    "median_predicted_y.shape\n",
    "\n",
    "print(\"MSE : \", mean_squared_error(y, median_predicted_y ))"
   ]
  },
  {
   "cell_type": "code",
   "execution_count": 9,
   "id": "2e78dd10",
   "metadata": {
    "execution": {
     "iopub.execute_input": "2021-07-17T15:54:53.259918Z",
     "iopub.status.busy": "2021-07-17T15:54:53.258693Z",
     "iopub.status.idle": "2021-07-17T15:54:53.852104Z",
     "shell.execute_reply": "2021-07-17T15:54:53.851569Z",
     "shell.execute_reply.started": "2021-07-17T15:11:32.370496Z"
    },
    "id": "Fog_6DNdS-h_",
    "papermill": {
     "duration": 0.619253,
     "end_time": "2021-07-17T15:54:53.852219",
     "exception": false,
     "start_time": "2021-07-17T15:54:53.232966",
     "status": "completed"
    },
    "tags": []
   },
   "outputs": [
    {
     "name": "stdout",
     "output_type": "stream",
     "text": [
      "final_oob_score is  12.88396115502854\n"
     ]
    }
   ],
   "source": [
    "# First noting that our earlier definded variable list_selected_row and list_selected_columns \n",
    "# which has the list of selected rows and columns\n",
    "# e.g. list_selected_row is a 2D array of the form [[], [], []...] each inner-array represnting selected row numbers\n",
    "# for a specific sample. and len(list_selected_row) is 30 reprsenting the 30 samples we have selected for bootstrapping\n",
    "# print(\"list_selected_row[10] \", list_selected_row[10])\n",
    "# print(list_selected_columns)\n",
    "\n",
    "y_predicted_oob_median_list = []\n",
    "\n",
    "for i in range(0, 506):\n",
    "  indices_for_oob_models = []\n",
    "  \n",
    "  # For each of i-th row I shall build a list, of sample size 30\n",
    "  # ONLY condition being that this i-th row should not be part of the list_selected_row[i-th]\n",
    "  # e.g. say for i = 469 and index_oob in below loop is 10 then \n",
    "  # list_selected_row[10] (which is an array of row-numbers) should not contain the 469-th row\n",
    "  for index_oob in range(0, 30):\n",
    "    if i not in list_selected_row[index_oob]:\n",
    "      indices_for_oob_models.append(index_oob)\n",
    "      \n",
    "  y_predicted_oob_list = []\n",
    "  \n",
    "  for oob_model_index in indices_for_oob_models:\n",
    "    model_oob = list_of_all_models_decision_tree[oob_model_index]\n",
    "    \n",
    "    row_oob = x[i]\n",
    "    # print('oob_model_index ', oob_model_index)\n",
    "    \n",
    "    # Now extract ONLY those specific columns/featues that were selected during the bootstrapping\n",
    "    x_oob_data_point = [row_oob[columns] for columns in list_selected_columns[oob_model_index] ]\n",
    "    # print('np.array(x_oob_data_point) ', np.array(x_oob_data_point))\n",
    "    x_oob_data_point = np.array(x_oob_data_point).reshape(1, -1)\n",
    "    \n",
    "    y_predicted_oob_data_point = model_oob.predict(x_oob_data_point)\n",
    "    y_predicted_oob_list.append(y_predicted_oob_data_point)\n",
    "    # \n",
    "  y_predicted_oob_list = np.array(y_predicted_oob_list)\n",
    "  \n",
    "  y_predicted_median = np.median(y_predicted_oob_list)\n",
    "  y_predicted_oob_median_list.append(y_predicted_median)\n",
    "  \n",
    "\n",
    "def calculate_oob_score(num_rows):\n",
    "  oob_score = 0\n",
    "  for i in range(0, num_rows):\n",
    "    oob_score += ((y[i] - y_predicted_oob_median_list[i] ) ** 2)\n",
    "  final_oob_score = oob_score/506\n",
    "  return final_oob_score\n",
    "\n",
    "print(\"final_oob_score is \", calculate_oob_score(506))   \n",
    "  "
   ]
  },
  {
   "cell_type": "code",
   "execution_count": 10,
   "id": "4eb11762",
   "metadata": {
    "execution": {
     "iopub.execute_input": "2021-07-17T15:54:53.933075Z",
     "iopub.status.busy": "2021-07-17T15:54:53.932140Z",
     "iopub.status.idle": "2021-07-17T15:54:54.545398Z",
     "shell.execute_reply": "2021-07-17T15:54:54.544942Z",
     "shell.execute_reply.started": "2021-07-17T15:11:33.061061Z"
    },
    "papermill": {
     "duration": 0.642927,
     "end_time": "2021-07-17T15:54:54.545519",
     "exception": false,
     "start_time": "2021-07-17T15:54:53.902592",
     "status": "completed"
    },
    "tags": []
   },
   "outputs": [
    {
     "name": "stdout",
     "output_type": "stream",
     "text": [
      "(0.07893375567065226, 10.495318261846007)\n"
     ]
    }
   ],
   "source": [
    "# Function to build the entire bootstrapping steps that we did above and\n",
    "# Reurning from the function the MSE and oob score\n",
    "def bootstrapping_and_oob(x, y):\n",
    "\n",
    "  # Use generating_samples function to create 30 samples \n",
    "  # store these created samples in a list\n",
    "  list_input_data =[]\n",
    "  list_output_data =[]\n",
    "  list_selected_row= []\n",
    "  list_selected_columns=[]\n",
    "  \n",
    "  for i in range (0, 30):\n",
    "    a, b, c, d = generating_samples(x, y)\n",
    "    list_input_data.append(a)\n",
    "    list_output_data.append(b)\n",
    "    list_selected_row.append(c)\n",
    "    list_selected_columns.append(d)\n",
    "  \n",
    "  # building regression trees\n",
    "  list_of_all_models_decision_tree = []\n",
    "  for i in range(0, 30):\n",
    "    model_i = DecisionTreeRegressor(max_depth=None)\n",
    "    model_i.fit(list_input_data[i], list_output_data[i])\n",
    "    list_of_all_models_decision_tree.append(model_i)\n",
    "  \n",
    "  # calculating MSE\n",
    "  array_of_Y = []\n",
    "\n",
    "  for i in range(0, 30):\n",
    "    data_point_i = x[:, list_selected_columns[i]]\n",
    "    target_y_i = list_of_all_models_decision_tree[i].predict(data_point_i)\n",
    "    array_of_Y.append(target_y_i)\n",
    "    \n",
    "    \n",
    "  predicted_array_of_target_y = np.array(array_of_Y)\n",
    "  predicted_array_of_target_y = predicted_array_of_target_y.transpose()\n",
    "\n",
    "  # print(predicted_array_of_target_y.shape)\n",
    "\n",
    "  # Now to calculate MSE, first calculate the Median of Predicted Y\n",
    "  # passing axis=1 will make sure the medians are computed along axis=1\n",
    "  median_predicted_y = np.median(predicted_array_of_target_y, axis=1)\n",
    "  \n",
    "  # And now the final MSE\n",
    "  MSE = mean_squared_error(y, median_predicted_y )\n",
    "  \n",
    "  # Calculating OOB Score\n",
    "  y_predicted_oob_median_list = []\n",
    "\n",
    "  for i in range(0, 506):\n",
    "    indices_for_oob_models = []\n",
    "    \n",
    "    # For each of i-th row I shall build a list of sample size 30\n",
    "    # ONLY condition being that this ith row should not be part of\n",
    "    # the list_selected_row\n",
    "    for index_oob in range(0, 30):\n",
    "      if i not in list_selected_row[index_oob]:\n",
    "        indices_for_oob_models.append(index_oob)\n",
    "        \n",
    "    y_predicted_oob_list = []\n",
    "    \n",
    "    for oob_model_index in indices_for_oob_models:\n",
    "      model_oob = list_of_all_models_decision_tree[oob_model_index]\n",
    "      \n",
    "      row_oob = x[i]\n",
    "      # print('oob_model_index ', oob_model_index)\n",
    "      \n",
    "      x_oob_data_point = [row_oob[col] for col in list_selected_columns[oob_model_index] ]\n",
    "      # print('np.array(x_oob_data_point) ', np.array(x_oob_data_point))\n",
    "      x_oob_data_point = np.array(x_oob_data_point).reshape(1, -1)\n",
    "      \n",
    "      y_predicted_oob_data_point = model_oob.predict(x_oob_data_point)\n",
    "      y_predicted_oob_list.append(y_predicted_oob_data_point)\n",
    "      # \n",
    "    y_predicted_oob_list = np.array(y_predicted_oob_list)\n",
    "    \n",
    "    y_predicted_median = np.median(y_predicted_oob_list)\n",
    "    y_predicted_oob_median_list.append(y_predicted_median)\n",
    "    \n",
    "\n",
    "  oob_score = 0\n",
    "\n",
    "  for i in range(0, 506):\n",
    "    # oob_score = (oob_score + (y[i] - y_predicted_oob_median_list[i] ) ** 2)\n",
    "    # 13.828377285079045\n",
    "    oob_score += (y[i] - y_predicted_oob_median_list[i] ) ** 2\n",
    "\n",
    "  final_oob_score = oob_score/506\n",
    "  \n",
    "  return MSE, final_oob_score\n",
    "\n",
    "print(bootstrapping_and_oob(x, y))\n",
    "  "
   ]
  },
  {
   "cell_type": "code",
   "execution_count": 11,
   "id": "daabe5b3",
   "metadata": {
    "execution": {
     "iopub.execute_input": "2021-07-17T15:54:54.588020Z",
     "iopub.status.busy": "2021-07-17T15:54:54.587455Z",
     "iopub.status.idle": "2021-07-17T15:55:16.170156Z",
     "shell.execute_reply": "2021-07-17T15:55:16.169627Z",
     "shell.execute_reply.started": "2021-07-17T15:11:33.803497Z"
    },
    "papermill": {
     "duration": 21.605832,
     "end_time": "2021-07-17T15:55:16.170273",
     "exception": false,
     "start_time": "2021-07-17T15:54:54.564441",
     "status": "completed"
    },
    "tags": []
   },
   "outputs": [
    {
     "name": "stdout",
     "output_type": "stream",
     "text": [
      "confidence_interval_mse_35  (0.07065402698924403, 0.15383817239118291)\n",
      "confidence_interval_oob_score_35  (13.936187851151747, 14.966849102743751)\n"
     ]
    }
   ],
   "source": [
    "import scipy\n",
    "\n",
    "x=boston.data #independent variables\n",
    "y=boston.target #target variable\n",
    "\n",
    "mse_boston_35_times_arr = []\n",
    "oob_score_boston_35_times_arr = []\n",
    "\n",
    "# Repeat Task 1 for 35 times, and for each iteration store the Train MSE and OOB score\n",
    "for i in range(0, 35):\n",
    "  mse, oob_score = bootstrapping_and_oob(x, y)\n",
    "  mse_boston_35_times_arr.append(mse)\n",
    "  oob_score_boston_35_times_arr.append(oob_score)\n",
    "\n",
    "\n",
    "mse_boston_35_times_arr = np.array(mse_boston_35_times_arr)\n",
    "oob_score_boston_35_times_arr = np.array(oob_score_boston_35_times_arr)\n",
    "\n",
    "confidence_level = 0.95\n",
    "degrees_of_freedom = 34 # sample.size - 1\n",
    "\n",
    "mean_of_sample_mse_35 = np.mean(mse_boston_35_times_arr)\n",
    "standard_error_of_sample_mse_35 = scipy.stats.sem(mse_boston_35_times_arr)\n",
    "\n",
    "\n",
    "# Per document - https://www.kite.com/python/answers/how-to-compute-the-confidence-interval-of-a-sample-statistic-in-python\n",
    "# confidence_interval = scipy.stats.t.interval(confidence_level, degrees_freedom, sample_mean, sample_standard_error)\n",
    "confidence_interval_mse_35 = scipy.stats.t.interval(confidence_level, degrees_of_freedom, mean_of_sample_mse_35, standard_error_of_sample_mse_35 )\n",
    "print(\"confidence_interval_mse_35 \", confidence_interval_mse_35)\n",
    "\n",
    "# Now calculate confidence inter for oob score\n",
    "mean_of_sample_oob_score_35 = np.mean(oob_score_boston_35_times_arr)\n",
    "standard_error_of_sample_oob_score_35 = scipy.stats.sem(oob_score_boston_35_times_arr)\n",
    "\n",
    "confidence_interval_oob_score_35 = scipy.stats.t.interval(confidence_level, degrees_of_freedom, mean_of_sample_oob_score_35, standard_error_of_sample_oob_score_35 )\n",
    "print(\"confidence_interval_oob_score_35 \", confidence_interval_oob_score_35)\n"
   ]
  },
  {
   "cell_type": "code",
   "execution_count": 12,
   "id": "9e345266",
   "metadata": {
    "execution": {
     "iopub.execute_input": "2021-07-17T15:55:16.253738Z",
     "iopub.status.busy": "2021-07-17T15:55:16.253185Z",
     "iopub.status.idle": "2021-07-17T15:55:16.259294Z",
     "shell.execute_reply": "2021-07-17T15:55:16.259706Z",
     "shell.execute_reply.started": "2021-07-17T15:11:59.215457Z"
    },
    "id": "i_pUlSD-VYD1",
    "papermill": {
     "duration": 0.031636,
     "end_time": "2021-07-17T15:55:16.259834",
     "exception": false,
     "start_time": "2021-07-17T15:55:16.228198",
     "status": "completed"
    },
    "tags": []
   },
   "outputs": [
    {
     "data": {
      "text/plain": [
       "19.4"
      ]
     },
     "execution_count": 12,
     "metadata": {},
     "output_type": "execute_result"
    }
   ],
   "source": [
    "def predict_y_given_x_bootstrap(x_query):\n",
    "  y_predicted_array_30_sample = []\n",
    "  \n",
    "  for i in range(0, 30):\n",
    "    model_i = list_of_all_models_decision_tree[i]\n",
    "    # Extract x for ith data point with specific number of featues from list_selected_columns\n",
    "    x_data_point_i = [x_query[column] for column in list_selected_columns[i]]\n",
    "    x_data_point_i = np.array(x_data_point_i).reshape(1, -1)\n",
    "    y_predicted_i = model_i.predict(x_data_point_i)\n",
    "    y_predicted_array_30_sample.append(y_predicted_i)\n",
    "    \n",
    "  y_predicted_array_30_sample = np.array(y_predicted_array_30_sample)\n",
    "  y_predicted_median = np.median(y_predicted_array_30_sample)\n",
    "  return y_predicted_median\n",
    "\n",
    "\n",
    "xq= [0.18,20.0,5.00,0.0,0.421,5.60,72.2,7.95,7.0,30.0,19.1,372.13,18.60] \n",
    "y_predicted_for_xq = predict_y_given_x_bootstrap(xq)\n",
    "y_predicted_for_xq    "
   ]
  }
 ],
 "metadata": {
  "kernelspec": {
   "display_name": "Python 3",
   "language": "python",
   "name": "python3"
  },
  "language_info": {
   "codemirror_mode": {
    "name": "ipython",
    "version": 3
   },
   "file_extension": ".py",
   "mimetype": "text/x-python",
   "name": "python",
   "nbconvert_exporter": "python",
   "pygments_lexer": "ipython3",
   "version": "3.7.10"
  },
  "papermill": {
   "default_parameters": {},
   "duration": 32.516579,
   "end_time": "2021-07-17T15:55:16.885664",
   "environment_variables": {},
   "exception": null,
   "input_path": "__notebook__.ipynb",
   "output_path": "__notebook__.ipynb",
   "parameters": {},
   "start_time": "2021-07-17T15:54:44.369085",
   "version": "2.3.3"
  }
 },
 "nbformat": 4,
 "nbformat_minor": 5
}
